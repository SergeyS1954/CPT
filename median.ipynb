{
  "nbformat": 4,
  "nbformat_minor": 0,
  "metadata": {
    "colab": {
      "name": "Untitled14.ipynb",
      "provenance": [],
      "authorship_tag": "ABX9TyPnfxWnPf+KAMEMqYNNBiQ4",
      "include_colab_link": true
    },
    "kernelspec": {
      "name": "python3",
      "display_name": "Python 3"
    },
    "language_info": {
      "name": "python"
    }
  },
  "cells": [
    {
      "cell_type": "markdown",
      "metadata": {
        "id": "view-in-github",
        "colab_type": "text"
      },
      "source": [
        "<a href=\"https://colab.research.google.com/github/SergeyS1954/CPT/blob/main/median.ipynb\" target=\"_parent\"><img src=\"https://colab.research.google.com/assets/colab-badge.svg\" alt=\"Open In Colab\"/></a>"
      ]
    },
    {
      "cell_type": "code",
      "source": [
        ""
      ],
      "metadata": {
        "id": "8N-AUBRnPviv"
      },
      "execution_count": null,
      "outputs": []
    },
    {
      "cell_type": "code",
      "execution_count": 1,
      "metadata": {
        "colab": {
          "base_uri": "https://localhost:8080/"
        },
        "id": "dRuYkMzj0zKy",
        "outputId": "4e9550a8-5ea3-4e47-e802-2b1958319bc4"
      },
      "outputs": [
        {
          "output_type": "stream",
          "name": "stdout",
          "text": [
            "Эмпирическое среднее -0.03886894839705441\n",
            "Эмпирическая медиана -0.029275816201771422\n",
            "Эмпирическое среднее (зашумленное) =  0.16080943273747067\n",
            "Эмпирическая медиана (зашумленная)  =  -0.029013163715681575\n"
          ]
        }
      ],
      "source": [
        "import numpy as np\n",
        "mu = 0\n",
        "sigma = 1.0\n",
        "size = 500\n",
        "#generate random aray\n",
        "np.random.seed(1235)\n",
        "arr1 = np.random.normal(mu, sigma, size)\n",
        "print('Эмпирическое среднее', np.mean(arr1))\n",
        "print('Эмпирическая медиана', np.median(arr1))\n",
        "arr1 = np.append(arr1,[100])\n",
        "print('Эмпирическое среднее (зашумленное) = ', np.mean(arr1))\n",
        "print('Эмпирическая медиана (зашумленная)  = ', np.median(arr1))\n",
        "\n"
      ]
    },
    {
      "cell_type": "code",
      "execution_count": null,
      "metadata": {
        "colab": {
          "base_uri": "https://localhost:8080/"
        },
        "outputId": "5fec48d9-a906-4305-fc6d-1aa4203db2c5",
        "id": "4YAI4w-zPx-d"
      },
      "outputs": [
        {
          "output_type": "stream",
          "name": "stdout",
          "text": [
            " i =  18 h0 =  0 h1 =  1\n"
          ]
        }
      ],
      "source": [
        "\n"
      ]
    }
  ]
}