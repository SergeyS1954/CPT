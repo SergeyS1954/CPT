{
  "nbformat": 4,
  "nbformat_minor": 0,
  "metadata": {
    "colab": {
      "name": "Untitled14.ipynb",
      "provenance": [],
      "authorship_tag": "ABX9TyPw5CoC2Uyq4oIOrrfxs83p",
      "include_colab_link": true
    },
    "kernelspec": {
      "name": "python3",
      "display_name": "Python 3"
    },
    "language_info": {
      "name": "python"
    }
  },
  "cells": [
    {
      "cell_type": "markdown",
      "metadata": {
        "id": "view-in-github",
        "colab_type": "text"
      },
      "source": [
        "<a href=\"https://colab.research.google.com/github/SergeyS1954/CPT/blob/main/lek13.ipynb\" target=\"_parent\"><img src=\"https://colab.research.google.com/assets/colab-badge.svg\" alt=\"Open In Colab\"/></a>"
      ]
    },
    {
      "cell_type": "code",
      "source": [
        ""
      ],
      "metadata": {
        "id": "8N-AUBRnPviv"
      },
      "execution_count": null,
      "outputs": []
    },
    {
      "cell_type": "code",
      "execution_count": 2,
      "metadata": {
        "colab": {
          "base_uri": "https://localhost:8080/"
        },
        "id": "dRuYkMzj0zKy",
        "outputId": "cf170c10-8881-4eb2-e195-6cf41d824478"
      },
      "outputs": [
        {
          "output_type": "stream",
          "name": "stdout",
          "text": [
            "Эмпирическое среднее 0.07456402408177776\n",
            "Эмпирическая медиана 0.027538974880569753\n",
            "Эмпирическое среднее (зашумленное) =  0.2740159920975826\n",
            "Эмпирическая медиана (зашумленная)  =  0.028926050100623227\n"
          ]
        }
      ],
      "source": [
        "import numpy as np\n",
        "mu = 0\n",
        "sigma = 1.0\n",
        "size = 500\n",
        "#generate random aray\n",
        "np.random.seed(125)\n",
        "arr1 = np.random.normal(mu, sigma, size)\n",
        "print('Эмпирическое среднее', np.mean(arr1))\n",
        "print('Эмпирическая медиана', np.median(arr1))\n",
        "arr1 = np.append(arr1,[100])\n",
        "print('Эмпирическое среднее (зашумленное) = ', np.mean(arr1))\n",
        "print('Эмпирическая медиана (зашумленная)  = ', np.median(arr1))\n",
        "\n"
      ]
    },
    {
      "cell_type": "code",
      "execution_count": 6,
      "metadata": {
        "colab": {
          "base_uri": "https://localhost:8080/"
        },
        "outputId": "520a625a-7c65-453c-9345-90ac10786f27",
        "id": "4YAI4w-zPx-d"
      },
      "outputs": [
        {
          "output_type": "stream",
          "name": "stdout",
          "text": [
            "K_sturges =  7.0\n",
            "K1 =  7.983532793813978\n",
            "Ki = 6\n",
            "Гистограмма_x:  [51 31  9  7  1  1]\n",
            "Гистограмма_y:  [50 30 11  4  3  2]\n",
            "mean_x =  1.0035544711155966\n",
            "mean_y =  2.271251282883986\n",
            "Delta =  [0. 1. 2. 3. 4. 5.]\n",
            "Z_1 =  9.858582394007206\n",
            "Z_2 =  11.189887953589617\n",
            "Vk =  11.070497693516351\n"
          ]
        }
      ],
      "source": [
        "import numpy as np\n",
        "from scipy.stats import expon\n",
        "lam = 1.0\n",
        "n = 100\n",
        "\n",
        "np.random.seed(1234)\n",
        "Ks = 1+ np.floor(np.log2(n))\n",
        "print('K_sturges = ',Ks )\n",
        "\n",
        "K1 = 1.72*np.cbrt(n)\n",
        "print('K1 = ',K1 )\n",
        "Ki = int((Ks))\n",
        "Ki = 6\n",
        "print('Ki =',Ki)\n",
        "# Генерация тестовой выборки из экспоненциального распределения\n",
        "x = np.random.exponential(lam, n)\n",
        "# Контрольный вывод гистограммы\n",
        "arraw_ni_x = np.histogram(x, bins = Ki)[0]\n",
        "print('Гистограмма_x: ',arraw_ni_x)\n",
        "# Генерация тестовой выборки из экспоненциального распределения lambda = 2\n",
        "lam2 = lam*2\n",
        "y = np.random.exponential(lam2, n)\n",
        "arraw_ni_y = np.histogram(y, bins = Ki)[0]\n",
        "print('Гистограмма_y: ',arraw_ni_y)\n",
        "print('mean_x = ',np.mean(x))\n",
        "print('mean_y = ',np.mean(y))\n",
        "\n",
        "rv = expon(lam)\n",
        "# Построение интервалов \n",
        "#Delta = [0.,0.125,0.25,0.5,1.0,1.5, 2.0,5.0]\n",
        "Delta = np.linspace(0,Ki-1,Ki)\n",
        "print('Delta = ',Delta)\n",
        "# Вычисление значения критерия для x\n",
        "Chi_sq_1 = 0\n",
        "i = 0\n",
        "while i < Ki:\n",
        "    ni = arraw_ni_x[i]\n",
        "    if i < Ki-1 : npi = n*(expon.cdf(Delta[i+1],0,1/lam) - expon.cdf(Delta[i],0,1/lam))\n",
        "    else : npi = n*(1 - expon.cdf(Delta[i],0,1/lam ))\n",
        "#    print('npi =',npi)\n",
        "    Chi_sq_1 = Chi_sq_1 + ((ni - npi)**2/npi)\n",
        "    i = i + 1\n",
        "#    print('ni = ',ni, '((ni - npi)**2/npi) =  ',((ni - npi)**2/npi))\n",
        "print('Z_1 = ',Chi_sq_1)\n",
        "# Вычисление значения критерия для y\n",
        "Chi_sq_2= 0\n",
        "i = 0\n",
        "while i < Ki:\n",
        "\tni = arraw_ni_y[i]\n",
        "\tif i < Ki-1 : npi = n*(expon.cdf(Delta[i+1],0,1/lam) - expon.cdf(Delta[i],0,1/lam))\n",
        "\telse : npi = n*(1 - expon.cdf(Delta[i],0,1/lam))\n",
        "\tChi_sq_2 = Chi_sq_2 + ((ni - npi)**2/npi)\t\n",
        "\ti = i + 1\n",
        "print('Z_2 = ',Chi_sq_2)\n",
        "# Значение квантиля для 0.95, K - 1 = 7\n",
        "alpha = 0.05\n",
        "from scipy.stats import chi2\n",
        "Vk = chi2.ppf(1 - alpha, Ki - 1)\n",
        "print ('Vk = ',Vk)\n"
      ]
    }
  ]
}