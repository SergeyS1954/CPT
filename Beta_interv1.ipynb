{
  "nbformat": 4,
  "nbformat_minor": 0,
  "metadata": {
    "colab": {
      "name": "Untitled14.ipynb",
      "provenance": [],
      "authorship_tag": "ABX9TyOYoN6AGrd0i24PbvSSt+o4",
      "include_colab_link": true
    },
    "kernelspec": {
      "name": "python3",
      "display_name": "Python 3"
    },
    "language_info": {
      "name": "python"
    }
  },
  "cells": [
    {
      "cell_type": "markdown",
      "metadata": {
        "id": "view-in-github",
        "colab_type": "text"
      },
      "source": [
        "<a href=\"https://colab.research.google.com/github/SergeyS1954/CPT/blob/main/Beta_interv1.ipynb\" target=\"_parent\"><img src=\"https://colab.research.google.com/assets/colab-badge.svg\" alt=\"Open In Colab\"/></a>"
      ]
    },
    {
      "cell_type": "code",
      "execution_count": 2,
      "metadata": {
        "colab": {
          "base_uri": "https://localhost:8080/"
        },
        "id": "dRuYkMzj0zKy",
        "outputId": "cdb4f3f5-4b11-4d84-c676-fb82c2524113"
      },
      "outputs": [
        {
          "output_type": "stream",
          "name": "stdout",
          "text": [
            "0.788  -  0.997\n"
          ]
        }
      ],
      "source": [
        "import matplotlib.pyplot as plt\n",
        "import numpy as np\n",
        "from scipy import stats\n",
        "gamma = 0.99\n",
        "n = 40\n",
        "k = 2\n",
        "#x = np.arange (0.01, 1.0, 0.01)\n",
        "theta1 = stats.beta.ppf((1 - gamma)/2,n - k, k + 1)\n",
        "theta2 = stats.beta.ppf((1 + gamma)/2,n - k + 1 ,k)\n",
        "print(round(theta1,3),\" - \", round(theta2,3))\n"
      ]
    }
  ]
}