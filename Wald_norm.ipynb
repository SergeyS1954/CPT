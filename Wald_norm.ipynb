{
  "nbformat": 4,
  "nbformat_minor": 0,
  "metadata": {
    "colab": {
      "name": "Untitled14.ipynb",
      "provenance": [],
      "authorship_tag": "ABX9TyP1feKHKj1j6w7BTva0vjtd",
      "include_colab_link": true
    },
    "kernelspec": {
      "name": "python3",
      "display_name": "Python 3"
    },
    "language_info": {
      "name": "python"
    }
  },
  "cells": [
    {
      "cell_type": "markdown",
      "metadata": {
        "id": "view-in-github",
        "colab_type": "text"
      },
      "source": [
        "<a href=\"https://colab.research.google.com/github/SergeyS1954/CPT/blob/main/Wald_norm.ipynb\" target=\"_parent\"><img src=\"https://colab.research.google.com/assets/colab-badge.svg\" alt=\"Open In Colab\"/></a>"
      ]
    },
    {
      "cell_type": "code",
      "execution_count": 1,
      "metadata": {
        "colab": {
          "base_uri": "https://localhost:8080/"
        },
        "id": "dRuYkMzj0zKy",
        "outputId": "5fec48d9-a906-4305-fc6d-1aa4203db2c5"
      },
      "outputs": [
        {
          "output_type": "stream",
          "name": "stdout",
          "text": [
            " i =  18 h0 =  0 h1 =  1\n"
          ]
        }
      ],
      "source": [
        "import numpy as np\n",
        "alpha = 0.1\n",
        "beta = 0.1\n",
        "theta0 = 0\n",
        "theta1 = 0.5\n",
        "sigma2 = 2.0\n",
        "size = 100\n",
        "#generate random aray\n",
        "np.random.seed(123)\n",
        "arr_1 = np.random.normal(theta1, sigma2, size)\n",
        "\n",
        "#bounds\n",
        "a_0  = (sigma2/(theta1 - theta0))*np.log(beta/(1 - alpha))\n",
        "a_1  = (sigma2/(theta1 - theta0))*np.log((1 - beta)/alpha)\n",
        "sum = 0\n",
        "theta = theta0 + theta1\n",
        "h0 = 0\n",
        "h1 = 0\n",
        "#main loop\n",
        "for i in range(size-1):\n",
        "    s1 = sum - i/2*theta\n",
        "    if s1 < a_0 :\n",
        "        h0 = 1\n",
        "        break\n",
        "    if s1 > a_1 :\n",
        "        h1 = 1\n",
        "        break\n",
        "    else : i = i + 1\n",
        "    sum = sum + arr_1[i]\n",
        "print (' i = ', i, 'h0 = ', h0, 'h1 = ', h1)\n"
      ]
    }
  ]
}